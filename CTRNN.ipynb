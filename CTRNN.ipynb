{
 "cells": [
  {
   "cell_type": "markdown",
   "metadata": {},
   "source": [
    "## Done\n",
    "* Make a basic CTRNN cell work\n",
    "\n",
    "## ToDo\n",
    "* Make work with 3 dimensional input"
   ]
  },
  {
   "cell_type": "markdown",
   "metadata": {},
   "source": [
    "Good inspiration if you get stuck: [A noob’s guide to implementing RNN-LSTM using Tensorflow](http://monik.in/a-noobs-guide-to-implementing-rnn-lstm-using-tensorflow/)\n",
    "\n",
    "Different cell types: [documentation](https://www.tensorflow.org/api_docs/python/tf/contrib/rnn)"
   ]
  },
  {
   "cell_type": "code",
   "execution_count": 1,
   "metadata": {
    "collapsed": true
   },
   "outputs": [],
   "source": [
    "from __future__ import absolute_import, division, print_function\n",
    "\n",
    "\"\"\"\n",
    "Imports\n",
    "\"\"\"\n",
    "import numpy as np\n",
    "import tensorflow as tf\n",
    "%matplotlib inline\n",
    "import matplotlib.pyplot as plt\n"
   ]
  },
  {
   "cell_type": "code",
   "execution_count": 2,
   "metadata": {
    "collapsed": true
   },
   "outputs": [],
   "source": [
    "RANDOM_SEED = 1234"
   ]
  },
  {
   "cell_type": "code",
   "execution_count": 3,
   "metadata": {
    "collapsed": true
   },
   "outputs": [],
   "source": [
    "def gen_data(size=1000000):\n",
    "    X = np.array(np.random.choice(2, size=(size,)))\n",
    "    Y = []\n",
    "    for i in range(size):\n",
    "        threshold = 0.5\n",
    "        if X[i-3] == 1:\n",
    "            threshold += 0.5\n",
    "        if X[i-8] == 1:\n",
    "            threshold -= 0.25\n",
    "        if np.random.rand() > threshold:\n",
    "            Y.append(0)\n",
    "        else:\n",
    "            Y.append(1)\n",
    "    return X, np.array(Y)\n",
    "\n",
    "# adapted from https://github.com/tensorflow/tensorflow/blob/master/tensorflow/models/rnn/ptb/reader.py\n",
    "def gen_batch(raw_data, batch_size, num_steps):\n",
    "    raw_x, raw_y = raw_data\n",
    "    data_length = len(raw_x)\n",
    "\n",
    "    # partition raw data into batches and stack them vertically in a data matrix\n",
    "    batch_partition_length = data_length // batch_size\n",
    "    data_x = np.zeros([batch_size, batch_partition_length], dtype=np.int32)\n",
    "    data_y = np.zeros([batch_size, batch_partition_length], dtype=np.int32)\n",
    "    for i in range(batch_size):\n",
    "        data_x[i] = raw_x[batch_partition_length * i:batch_partition_length * (i + 1)]\n",
    "        data_y[i] = raw_y[batch_partition_length * i:batch_partition_length * (i + 1)]\n",
    "    # further divide batch partitions into num_steps for truncated backprop\n",
    "    epoch_size = batch_partition_length // num_steps\n",
    "\n",
    "    for i in range(epoch_size):\n",
    "        x = data_x[:, i * num_steps:(i + 1) * num_steps]\n",
    "        y = data_y[:, i * num_steps:(i + 1) * num_steps]\n",
    "        yield (x, y)\n",
    "\n",
    "def gen_epochs(num_epochs, batch_size, num_steps):\n",
    "    for i in range(num_epochs):\n",
    "        yield gen_batch(gen_data(), batch_size, num_steps)\n",
    "\n",
    "def reset_graph():\n",
    "    if 'sess' in globals() and sess:\n",
    "        sess.close()\n",
    "    tf.reset_default_graph()\n",
    "    \n",
    "\n",
    "def onehot(t, num_classes):\n",
    "    out = np.zeros((t.shape[0], num_classes))\n",
    "    for row, col in enumerate(t):\n",
    "        out[row, col] = 1\n",
    "    return out\n",
    "\n"
   ]
  },
  {
   "cell_type": "code",
   "execution_count": 9,
   "metadata": {
    "collapsed": true
   },
   "outputs": [],
   "source": [
    "# Global config variables\n",
    "# batch_size = 200\n",
    "\n",
    "num_steps = 10 # number of truncated backprop steps ('n' in the discussion above)\n",
    "batch_size= 200\n",
    "num_epochs=5\n",
    "learning_rate = 0.01\n",
    "\n",
    "num_units = 16\n",
    "input_dim = 2\n",
    "num_input_class = input_dim\n",
    "output_dim = 2"
   ]
  },
  {
   "cell_type": "code",
   "execution_count": 10,
   "metadata": {
    "collapsed": false
   },
   "outputs": [],
   "source": [
    "from CTRNN import CTRNNModel"
   ]
  },
  {
   "cell_type": "code",
   "execution_count": 11,
   "metadata": {
    "collapsed": false
   },
   "outputs": [],
   "source": [
    "def train_network(model, num_epochs, batch_size=32, num_steps=200, verbose=True, save=False):\n",
    "    tf.set_random_seed(RANDOM_SEED)\n",
    "    training_losses = []\n",
    "    with tf.Session() as sess:\n",
    "        sess.run(tf.global_variables_initializer())\n",
    "\n",
    "        print('\\tBegin training loop')\n",
    "        for idx, epoch in enumerate(gen_epochs(num_epochs, batch_size, num_steps)):\n",
    "            print('epoch', idx)\n",
    "            training_loss = 0\n",
    "            steps = 0\n",
    "            state_tuple = model.zero_state_tuple(batch_size=batch_size)\n",
    "#             print('state_tuple', type(state_tuple[0]), state_tuple[0].get_shape(), \n",
    "#                   state_tuple[1][0].get_shape(), state_tuple[1][0].get_shape())\n",
    "            for X, Y in epoch:\n",
    "#                 X = onehot(X, input_dim)\n",
    "#                 print('X!', X.shape)\n",
    "                steps += 1\n",
    "                feed_dict = {model.x:X, model.y:Y, model.init_tuple:state_tuple}\n",
    "                training_loss_, _, state_tuple = sess.run([\n",
    "                        model.total_loss, \n",
    "                        model.train_op,\n",
    "                        model.state_tuple\n",
    "                    ], \n",
    "                        feed_dict=feed_dict)\n",
    "                training_loss += training_loss_\n",
    "\n",
    "                if steps % 100 == 0 and steps > 0:\n",
    "                    if verbose:\n",
    "                        print('Average loss at step', steps,\n",
    "                             'for last 100 steps: ', training_loss/100.)\n",
    "                    training_losses.append(training_loss/100.)\n",
    "                    training_loss = 0                    \n",
    "#                     break\n",
    "#                 break\n",
    "    return training_losses\n",
    "        "
   ]
  },
  {
   "cell_type": "code",
   "execution_count": 12,
   "metadata": {
    "collapsed": false,
    "scrolled": false
   },
   "outputs": [
    {
     "name": "stdout",
     "output_type": "stream",
     "text": [
      "Creating the model\n",
      "x (?, 10, 2)\n",
      "init_tuple <class 'tuple'>\n",
      "init_tuple[0] (?, 16)\n",
      "init_tuple[1][0] (?, 16)\n",
      "init_tuple[1][1] (?, 16)\n",
      "\n",
      "Training:\n",
      "\tBegin training loop\n",
      "epoch 0\n",
      "Average loss at step 100 for last 100 steps:  0.630801059604\n",
      "Average loss at step 200 for last 100 steps:  0.592595253587\n",
      "Average loss at step 300 for last 100 steps:  0.577055592537\n",
      "Average loss at step 400 for last 100 steps:  0.536003700793\n",
      "Average loss at step 500 for last 100 steps:  0.504294130802\n",
      "epoch 1\n",
      "Average loss at step 100 for last 100 steps:  0.486972828507\n",
      "Average loss at step 200 for last 100 steps:  0.479574787021\n",
      "Average loss at step 300 for last 100 steps:  0.478268867433\n",
      "Average loss at step 400 for last 100 steps:  0.476775471866\n",
      "Average loss at step 500 for last 100 steps:  0.475332196951\n",
      "epoch 2\n",
      "Average loss at step 100 for last 100 steps:  0.476080340445\n",
      "Average loss at step 200 for last 100 steps:  0.472474900186\n",
      "Average loss at step 300 for last 100 steps:  0.473222897351\n",
      "Average loss at step 400 for last 100 steps:  0.471815697849\n",
      "Average loss at step 500 for last 100 steps:  0.47131511122\n",
      "epoch 3\n",
      "Average loss at step 100 for last 100 steps:  0.471903704703\n",
      "Average loss at step 200 for last 100 steps:  0.470006727874\n",
      "Average loss at step 300 for last 100 steps:  0.47043186605\n",
      "Average loss at step 400 for last 100 steps:  0.468684449494\n",
      "Average loss at step 500 for last 100 steps:  0.466094475985\n",
      "epoch 4\n",
      "Average loss at step 100 for last 100 steps:  0.468686874509\n",
      "Average loss at step 200 for last 100 steps:  0.469018389881\n",
      "Average loss at step 300 for last 100 steps:  0.468383889794\n",
      "Average loss at step 400 for last 100 steps:  0.465150600374\n",
      "Average loss at step 500 for last 100 steps:  0.467887047529\n",
      "Terminated!!\n"
     ]
    }
   ],
   "source": [
    "# import CTRNN\n",
    "\n",
    "tf.reset_default_graph()\n",
    "\n",
    "y = tf.placeholder(tf.int32, shape=[None, num_steps], name='outputPlaceholder')\n",
    "# x = tf.placeholder(tf.float32, shape=[None, num_steps, input_dim], name='inputPlaceholder')\n",
    "x = tf.placeholder(tf.int32, shape=[None, num_steps], name='inputPlaceholder')\n",
    "init_c1 = tf.placeholder(tf.float32, shape=[None, num_units], name='initC')\n",
    "init_c2 = tf.placeholder(tf.float32, shape=[None, num_units], name='initC')\n",
    "init_u = tf.placeholder(tf.float32, shape=[None, num_units], name='initU')\n",
    "init_tuple = (init_c1, (init_c2, init_u))\n",
    "\n",
    "print('Creating the model')\n",
    "model = CTRNNModel(x=x, y=y, init_tuple=init_tuple, input_dim=input_dim, num_units=num_units, output_dim=output_dim, learning_rate=learning_rate)\n",
    "print('\\nTraining:')\n",
    "loss = train_network(model, num_epochs=num_epochs, batch_size=batch_size, num_steps=num_steps)\n",
    "\n",
    "\n",
    "print('Terminated!!')"
   ]
  },
  {
   "cell_type": "code",
   "execution_count": 8,
   "metadata": {
    "collapsed": false
   },
   "outputs": [
    {
     "name": "stdout",
     "output_type": "stream",
     "text": [
      "No learning:\t 0.66\n",
      "1 dep learning:\t 0.52\n",
      "2 dep learning:\t 0.45\n"
     ]
    },
    {
     "data": {
      "text/plain": [
       "[<matplotlib.lines.Line2D at 0x1f0ffcdd518>]"
      ]
     },
     "execution_count": 8,
     "metadata": {},
     "output_type": "execute_result"
    },
    {
     "data": {
      "image/png": "[encoded data removed]",
      "text/plain": [
       "<matplotlib.figure.Figure at 0x1f0c9caa940>"
      ]
     },
     "metadata": {},
     "output_type": "display_data"
    }
   ],
   "source": [
    "print('No learning:\\t', 0.66)\n",
    "print('1 dep learning:\\t', 0.52)\n",
    "print('2 dep learning:\\t', 0.45)\n",
    "plt.plot(loss)"
   ]
  },
  {
   "cell_type": "code",
   "execution_count": null,
   "metadata": {
    "collapsed": true
   },
   "outputs": [],
   "source": []
  },
  {
   "cell_type": "code",
   "execution_count": null,
   "metadata": {
    "collapsed": true
   },
   "outputs": [],
   "source": []
  },
  {
   "cell_type": "code",
   "execution_count": null,
   "metadata": {
    "collapsed": true
   },
   "outputs": [],
   "source": []
  },
  {
   "cell_type": "code",
   "execution_count": null,
   "metadata": {
    "collapsed": true
   },
   "outputs": [],
   "source": []
  },
  {
   "cell_type": "code",
   "execution_count": null,
   "metadata": {
    "collapsed": true
   },
   "outputs": [],
   "source": []
  },
  {
   "cell_type": "code",
   "execution_count": null,
   "metadata": {
    "collapsed": true
   },
   "outputs": [],
   "source": []
  },
  {
   "cell_type": "code",
   "execution_count": null,
   "metadata": {
    "collapsed": true
   },
   "outputs": [],
   "source": []
  }
 ],
 "metadata": {
  "kernelspec": {
   "display_name": "Python 3",
   "language": "python",
   "name": "python3"
  },
  "language_info": {
   "codemirror_mode": {
    "name": "ipython",
    "version": 3
   },
   "file_extension": ".py",
   "mimetype": "text/x-python",
   "name": "python",
   "nbconvert_exporter": "python",
   "pygments_lexer": "ipython3",
   "version": "3.5.2"
  }
 },
 "nbformat": 4,
 "nbformat_minor": 1
}
